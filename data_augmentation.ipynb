{
 "cells": [
  {
   "cell_type": "code",
   "execution_count": 2,
   "metadata": {},
   "outputs": [],
   "source": [
    "from PIL import Image\n",
    "from pathlib import Path\n",
    "import matplotlib.pyplot as plt\n",
    "import numpy as np\n",
    "import cv2\n",
    "\n",
    "import torch\n",
    "import torchvision.transforms as transforms\n",
    "import torchvision\n"
   ]
  },
  {
   "cell_type": "code",
   "execution_count": 11,
   "metadata": {},
   "outputs": [],
   "source": [
    "# Define the transformations for data augmentation\n",
    "T = transforms.Compose([\n",
    "    transforms.ToPILImage(),\n",
    "    # transforms.Resize((224,224)),\n",
    "    transforms.RandomHorizontalFlip(),       # Randomly flip the image horizontally\n",
    "    transforms.RandomVerticalFlip(),       # Randomly flip the image horizontally\n",
    "    # transforms.ColorJitter(brightness=0.2, contrast=0.2, saturation=0.2, hue=0.1),  # Randomly adjust color\n",
    "])"
   ]
  },
  {
   "cell_type": "code",
   "execution_count": 12,
   "metadata": {},
   "outputs": [],
   "source": [
    "def augment (original_img, transform, display:bool=False):\n",
    "    augmented_imgs = [transform(original_img) for i in range(5)]\n",
    "    augmented_imgs = list(map(np.array, augmented_imgs))\n",
    "    \n",
    "    if display:\n",
    "        for img in augmented_imgs:\n",
    "            plt.imshow(img)\n",
    "            plt.axis('off')  # Turn off axis\n",
    "            plt.show()\n",
    "            \n",
    "    \n",
    "    \n",
    "    return [original_img] + augmented_imgs"
   ]
  },
  {
   "cell_type": "code",
   "execution_count": null,
   "metadata": {},
   "outputs": [],
   "source": [
    "test_img = cv2.imread(r'pillQC-dataset\\pillQC-main\\images\\0\\normal0001.jpg')\n",
    "# Convert BGR to RGB\n",
    "rgb_image = test_img[:, :, ::-1]\n",
    "# Display the image using plt.imshow()\n",
    "# plt.imshow(rgb_image)\n",
    "# plt.axis('off')  # Turn off axis\n",
    "# plt.show()\n",
    "\n",
    "imgs = augment(rgb_image, T, False)\n",
    "\n",
    "print(type(imgs[1]))\n",
    "plt.imshow(rgb_image)\n",
    "plt.axis('off')  # Turn off axis\n",
    "plt.show()"
   ]
  },
  {
   "cell_type": "code",
   "execution_count": 14,
   "metadata": {},
   "outputs": [],
   "source": [
    "import glob\n",
    "\n",
    "folder_path = r'wood\\train\\good'  # Replace with the path to your folder\n",
    "image_files = glob.glob(folder_path + '/*.png')  # Modify the extension if needed\n",
    "\n",
    "augmented_imgs = [augment(cv2.imread(path), T, False) for path in image_files]"
   ]
  },
  {
   "cell_type": "code",
   "execution_count": 10,
   "metadata": {},
   "outputs": [],
   "source": [
    "import os\n",
    "\n",
    "save_folder_path = r'wood\\processed\\0'\n",
    "\n",
    "for idx1, img_set in enumerate(augmented_imgs):\n",
    "    for idx2, img in enumerate(img_set):\n",
    "        # print(type(img))\n",
    "        filename = os.path.join(save_folder_path, 'nominal_' + str(idx1) + '_' + str(idx2) + '.jpg')\n",
    "        cv2.imwrite(filename, img)"
   ]
  }
 ],
 "metadata": {
  "kernelspec": {
   "display_name": "pytorch_env",
   "language": "python",
   "name": "python3"
  },
  "language_info": {
   "codemirror_mode": {
    "name": "ipython",
    "version": 3
   },
   "file_extension": ".py",
   "mimetype": "text/x-python",
   "name": "python",
   "nbconvert_exporter": "python",
   "pygments_lexer": "ipython3",
   "version": "3.9.17"
  },
  "orig_nbformat": 4
 },
 "nbformat": 4,
 "nbformat_minor": 2
}
